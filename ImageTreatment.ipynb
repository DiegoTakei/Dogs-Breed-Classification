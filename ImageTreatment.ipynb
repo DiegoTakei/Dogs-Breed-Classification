{
 "cells": [
  {
   "cell_type": "code",
   "execution_count": 2,
   "metadata": {},
   "outputs": [],
   "source": [
    "import os\n",
    "import pandas as pd\n",
    "from PIL import Image"
   ]
  },
  {
   "cell_type": "code",
   "execution_count": 2,
   "metadata": {},
   "outputs": [],
   "source": [
    "def resize(folder, image):\n",
    "    dog = Image.open(folder + '/' + image)\n",
    "    dogresize = dog.resize((256, 256), Image.NEAREST)\n",
    "    dogresize.save('resized/' + image)\n",
    "\n",
    "def greyscale(folder, image):\n",
    "    dog = Image.open(folder + '/' + image)\n",
    "    doggrey = dog.convert('L')\n",
    "    doggrey.save('greyscale/' + image)\n",
    "\n",
    "def make_directory(name):\n",
    "    try:\n",
    "        os.mkdir(name)\n",
    "    except Exception:\n",
    "        pass\n",
    "\n",
    "dogs = pd.read_csv('labels.csv')"
   ]
  },
  {
   "cell_type": "code",
   "execution_count": 3,
   "metadata": {},
   "outputs": [],
   "source": [
    "# resizes every image to 256 x 256\n",
    "make_directory('resized')\n",
    "for id in dogs.id:\n",
    "    resize('train', id + '.jpg')"
   ]
  },
  {
   "cell_type": "code",
   "execution_count": 4,
   "metadata": {},
   "outputs": [
    {
     "data": {
      "text/plain": "(2184, 2)"
     },
     "execution_count": 4,
     "metadata": {},
     "output_type": "execute_result"
    }
   ],
   "source": [
    "# selects the 20 most common classes\n",
    "chosen_races = ['irish_wolfhound', 'australian_terrier', 'blenheim_spaniel', 'miniature_pinscher', 'beagle', 'japanese_spaniel', 'cairn', 'leonberg', 'airedale', 'tibetan_terrier', 'samoyed', 'basenji', 'great_pyrenees', 'pomeranian', 'shih-tzu', 'bernese_mountain_dog', 'entlebucher', 'afghan_hound', 'maltese_dog', 'scottish_deerhound']\n",
    "\n",
    "is_chosen = dogs.breed.isin(chosen_races)\n",
    "filtered_dogs = dogs[is_chosen]\n",
    "filtered_dogs.shape"
   ]
  },
  {
   "cell_type": "code",
   "execution_count": 5,
   "metadata": {},
   "outputs": [],
   "source": [
    "# creates a directory and copies the relevant data to it\n",
    "make_directory('filtered')\n",
    "for i, dog in filtered_dogs.iterrows():\n",
    "    filename = f'{dog.id}.jpg'\n",
    "    os.system(f'cp resized/{filename} filtered/{filename}')"
   ]
  },
  {
   "cell_type": "code",
   "execution_count": 12,
   "metadata": {},
   "outputs": [],
   "source": [
    "img = Image.open('filtered/0a77d498ff491945347bb895d8ae4008.jpg').convert('L')\n",
    "img.save('greyscale.jpg')"
   ]
  }
 ],
 "metadata": {
  "kernelspec": {
   "display_name": "Python 3",
   "language": "python",
   "name": "python3"
  },
  "language_info": {
   "codemirror_mode": {
    "name": "ipython",
    "version": 3
   },
   "file_extension": ".py",
   "mimetype": "text/x-python",
   "name": "python",
   "nbconvert_exporter": "python",
   "pygments_lexer": "ipython3",
   "version": "3.6.8"
  }
 },
 "nbformat": 4,
 "nbformat_minor": 4
}