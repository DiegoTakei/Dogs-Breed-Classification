{
 "cells": [
  {
   "cell_type": "code",
   "execution_count": 3,
   "metadata": {},
   "outputs": [],
   "source": [
    "import os\n",
    "import pandas as pd\n",
    "from PIL import Image"
   ]
  },
  {
   "cell_type": "code",
   "execution_count": 4,
   "metadata": {},
   "outputs": [],
   "source": [
    "def resize(folder, image):\n",
    "    dog = Image.open(f'data/{folder}/{image}')\n",
    "    dogresize = dog.resize((256, 256), Image.NEAREST)\n",
    "    dogresize.save('data/resized/' + image)\n",
    "\n",
    "def greyscale(folder, image):\n",
    "    dog = Image.open(f'data/{folder}/{image}')\n",
    "    doggrey = dog.convert('L')\n",
    "    doggrey.save('data/greyscale/' + image)\n",
    "\n",
    "def make_directory(name):\n",
    "    try:\n",
    "        os.mkdir(name)\n",
    "    except Exception:\n",
    "        pass\n",
    "\n",
    "dogs = pd.read_csv('data/labels.csv')"
   ]
  },
  {
   "cell_type": "code",
   "execution_count": 9,
   "metadata": {},
   "outputs": [
    {
     "name": "stderr",
     "output_type": "stream",
     "text": "/home/paulo/.local/share/virtualenvs/Dogs-Breed-Classification-Kr6iEMzs/lib/python3.6/site-packages/ipykernel_launcher.py:6: SettingWithCopyWarning: \nA value is trying to be set on a copy of a slice from a DataFrame.\nTry using .loc[row_indexer,col_indexer] = value instead\n\nSee the caveats in the documentation: http://pandas.pydata.org/pandas-docs/stable/user_guide/indexing.html#returning-a-view-versus-a-copy\n  \n"
    },
    {
     "data": {
      "text/plain": "(2184, 3)"
     },
     "execution_count": 9,
     "metadata": {},
     "output_type": "execute_result"
    }
   ],
   "source": [
    "# selects the 20 most common classes\n",
    "chosen_races = ['irish_wolfhound', 'australian_terrier', 'blenheim_spaniel', 'miniature_pinscher', 'beagle', 'japanese_spaniel', 'cairn', 'leonberg', 'airedale', 'tibetan_terrier', 'samoyed', 'basenji', 'great_pyrenees', 'pomeranian', 'shih-tzu', 'bernese_mountain_dog', 'entlebucher', 'afghan_hound', 'maltese_dog', 'scottish_deerhound']\n",
    "\n",
    "is_chosen = dogs.breed.isin(chosen_races)\n",
    "filtered_dogs = dogs[is_chosen]\n",
    "filtered_dogs['breed_id'] = [ chosen_races.index(b) for b in filtered_dogs.breed ] \n",
    "filtered_dogs.to_csv('data/filtered_labels.csv', index=False)\n",
    "filtered_dogs.shape"
   ]
  },
  {
   "cell_type": "code",
   "execution_count": 18,
   "metadata": {},
   "outputs": [],
   "source": [
    "# resizes every image to 256 x 256\n",
    "make_directory('data/resized')\n",
    "for id in dogs.id:\n",
    "    resize('train', id + '.jpg')"
   ]
  },
  {
   "cell_type": "code",
   "execution_count": 24,
   "metadata": {},
   "outputs": [],
   "source": [
    "# creates a directory and copies the relevant data to it\n",
    "make_directory('data/filtered')\n",
    "for i, dog in filtered_dogs.iterrows():\n",
    "    filename = f'{dog.id}.jpg'\n",
    "    os.system(f'cp data/resized/{filename} data/filtered/{filename}')"
   ]
  },
  {
   "cell_type": "code",
   "execution_count": 25,
   "metadata": {},
   "outputs": [],
   "source": [
    "# turns every relevant image grey\n",
    "make_directory('data/greyscale')\n",
    "for id in filtered_dogs.id:\n",
    "    greyscale('filtered', id + '.jpg')"
   ]
  }
 ],
 "metadata": {
  "kernelspec": {
   "display_name": "Python 3",
   "language": "python",
   "name": "python3"
  },
  "language_info": {
   "codemirror_mode": {
    "name": "ipython",
    "version": 3
   },
   "file_extension": ".py",
   "mimetype": "text/x-python",
   "name": "python",
   "nbconvert_exporter": "python",
   "pygments_lexer": "ipython3",
   "version": "3.6.8"
  }
 },
 "nbformat": 4,
 "nbformat_minor": 4
}