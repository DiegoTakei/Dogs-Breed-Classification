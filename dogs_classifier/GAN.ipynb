{
 "cells": [
  {
   "cell_type": "code",
   "execution_count": 1,
   "metadata": {},
   "outputs": [],
   "source": [
    "import tensorflow as tf\n",
    "tf.enable_eager_execution()\n",
    "\n",
    "# FUNCTION FOR DATA AUGMENTATION\n",
    "def flip(x: tf.Tensor, y:tf.Tensor) -> (tf.Tensor,tf.Tensor):\n",
    "    x = tf.image.random_flip_left_right(x)\n",
    "    return (x,y)\n",
    "\n",
    "# FUNCTION FOR DATA AUGMENTATION\n",
    "def crop(x: tf.Tensor, y:tf.Tensor) -> (tf.Tensor,tf.Tensor):\n",
    "    x = tf.random_crop(x,size=[64,64,3])\n",
    "    return (x,y)"
   ]
  },
  {
   "cell_type": "code",
   "execution_count": 2,
   "metadata": {},
   "outputs": [
    {
     "name": "stdout",
     "output_type": "stream",
     "text": [
      "WARNING:tensorflow:From /home/diegotakei/anaconda3/lib/python3.7/site-packages/tensorflow/python/ops/embedding_ops.py:132: colocate_with (from tensorflow.python.framework.ops) is deprecated and will be removed in a future version.\n",
      "Instructions for updating:\n",
      "Colocations handled automatically by placer.\n"
     ]
    }
   ],
   "source": [
    "MAPS = 128\n",
    "noise_dim = 128\n",
    "\n",
    "from tensorflow.keras import layers\n",
    "from tensorflow.keras.initializers import RandomNormal\n",
    "init = RandomNormal(mean=0.0, stddev=0.02)\n",
    "\n",
    "def make_generator():\n",
    "    seed = tf.keras.Input(shape=((noise_dim,)))\n",
    "    label = tf.keras.Input(shape=((1,)))\n",
    "    x = layers.Embedding(120, 120, input_length=1,name='emb')(label)\n",
    "    x = layers.Flatten()(x)\n",
    "    x = layers.concatenate([seed,x])\n",
    "    x = layers.Dense(4*4*MAPS*8, use_bias=False)(x)\n",
    "    x = layers.Reshape((4, 4, MAPS*8))(x)\n",
    "    x = layers.BatchNormalization()(x)\n",
    "    x = layers.ReLU()(x)\n",
    "    \n",
    "    x = layers.Conv2DTranspose(MAPS*4, (5, 5), strides=(2, 2), padding='same', kernel_initializer=init, use_bias=False)(x)\n",
    "    x = layers.BatchNormalization()(x)\n",
    "    x = layers.ReLU()(x)\n",
    "    \n",
    "    x = layers.Conv2DTranspose(MAPS*2, (5, 5), strides=(2, 2), padding='same', kernel_initializer=init, use_bias=False)(x)\n",
    "    x = layers.BatchNormalization()(x)\n",
    "    x = layers.ReLU()(x)\n",
    "    \n",
    "    x = layers.Conv2DTranspose(MAPS, (5, 5), strides=(2, 2), padding='same', kernel_initializer=init, use_bias=False)(x)\n",
    "    x = layers.BatchNormalization()(x)\n",
    "    x = layers.ReLU()(x)\n",
    "    \n",
    "    x = layers.Conv2DTranspose(3, (5, 5), strides=(2, 2), padding='same', kernel_initializer=init, use_bias=False, activation='tanh')(x)\n",
    "\n",
    "    model = tf.keras.Model(inputs=[seed,label], outputs=x)    \n",
    "    return model\n",
    "\n",
    "generator = make_generator()\n",
    "#generator.summary()"
   ]
  },
  {
   "cell_type": "code",
   "execution_count": 3,
   "metadata": {},
   "outputs": [],
   "source": [
    "GNOISE = 0.25\n",
    "\n",
    "def make_discriminator():\n",
    "    image = tf.keras.Input(shape=((64,64,3)))\n",
    "    label = tf.keras.Input(shape=((1,)))\n",
    "    x = layers.Embedding(120, 64*64, input_length=1)(label)\n",
    "    x = layers.Reshape((64,64,1))(x)\n",
    "    x = layers.concatenate([image,x])\n",
    "    \n",
    "    x = layers.Conv2D(MAPS, (5, 5), strides=(2, 2), padding='same', kernel_initializer=init, use_bias=False)(x)\n",
    "    x = layers.BatchNormalization()(x)\n",
    "    #x = layers.GaussianNoise(GNOISE)(x)\n",
    "    x = layers.LeakyReLU()(x)\n",
    "\n",
    "    x = layers.Conv2D(MAPS*2, (5, 5), strides=(2, 2), padding='same', kernel_initializer=init, use_bias=False)(x)\n",
    "    x = layers.BatchNormalization()(x)\n",
    "    #x = layers.GaussianNoise(GNOISE)(x)\n",
    "    x = layers.LeakyReLU()(x)\n",
    "\n",
    "    x = layers.Conv2D(MAPS*4, (5, 5), strides=(2, 2), padding='same', kernel_initializer=init, use_bias=False)(x)\n",
    "    x = layers.BatchNormalization()(x)\n",
    "    #x = layers.GaussianNoise(GNOISE)(x)\n",
    "    x = layers.LeakyReLU()(x)\n",
    "\n",
    "    x = layers.Conv2D(MAPS*8, (5, 5), strides=(2, 2), padding='same', kernel_initializer=init, use_bias=False)(x)\n",
    "    x = layers.BatchNormalization()(x)\n",
    "    #x = layers.GaussianNoise(GNOISE)(x)\n",
    "    x = layers.LeakyReLU()(x)\n",
    "    \n",
    "    x = layers.Flatten()(x)\n",
    "    x = layers.Dense(121, activation='sigmoid')(x)\n",
    "    x2 = layers.Dense(1, activation='linear')(x)\n",
    "    \n",
    "    model = tf.keras.Model(inputs=[image,label], outputs=[x,x2])\n",
    "    return model\n",
    "\n",
    "discriminator = make_discriminator()"
   ]
  },
  {
   "cell_type": "code",
   "execution_count": 4,
   "metadata": {},
   "outputs": [],
   "source": [
    "from tensorflow.contrib.eager.python import tfe\n",
    "\n",
    "# RaLS Discriminator Loss\n",
    "def RaLS_errD(fake,real):\n",
    "    return (tf.reduce_mean( (real - tf.reduce_mean(fake,0) - tf.ones_like(real))**2,0 )\n",
    "        + tf.reduce_mean( (fake - tf.reduce_mean(real,0) + tf.ones_like(real))**2,0 ) )/2.\n",
    "\n",
    "# RaLS Generator Loss\n",
    "def RaLS_errG(fake,real):\n",
    "    return (tf.reduce_mean( (real - tf.reduce_mean(fake,0) + tf.ones_like(real))**2,0 )\n",
    "        + tf.reduce_mean( (fake - tf.reduce_mean(real,0) - tf.ones_like(real))**2,0 ) )/2.\n",
    "\n",
    "# OPTIMIZER - ADAM\n",
    "learning_rate = tfe.Variable(0.0002)\n",
    "generator_optimizer = tf.train.AdamOptimizer(learning_rate=learning_rate, beta1=0.5)\n",
    "discriminator_optimizer = tf.train.AdamOptimizer(learning_rate=learning_rate, beta1=0.5)"
   ]
  },
  {
   "cell_type": "code",
   "execution_count": 6,
   "metadata": {},
   "outputs": [
    {
     "ename": "NameError",
     "evalue": "name 'DISPLAY_EVERY' is not defined",
     "output_type": "error",
     "traceback": [
      "\u001b[0;31m---------------------------------------------------------------------------\u001b[0m",
      "\u001b[0;31mNameError\u001b[0m                                 Traceback (most recent call last)",
      "\u001b[0;32m<ipython-input-6-fb2ba6d6dd8d>\u001b[0m in \u001b[0;36m<module>\u001b[0;34m\u001b[0m\n\u001b[1;32m     34\u001b[0m     \u001b[0;32mreturn\u001b[0m \u001b[0mgen_loss\u001b[0m\u001b[0;34m,\u001b[0m \u001b[0mdisc_loss\u001b[0m\u001b[0;34m\u001b[0m\u001b[0;34m\u001b[0m\u001b[0m\n\u001b[1;32m     35\u001b[0m \u001b[0;34m\u001b[0m\u001b[0m\n\u001b[0;32m---> 36\u001b[0;31m \u001b[0mprint\u001b[0m\u001b[0;34m(\u001b[0m\u001b[0;34m'Training started. Displaying every '\u001b[0m\u001b[0;34m+\u001b[0m\u001b[0mstr\u001b[0m\u001b[0;34m(\u001b[0m\u001b[0mDISPLAY_EVERY\u001b[0m\u001b[0;34m)\u001b[0m\u001b[0;34m+\u001b[0m\u001b[0;34m'th epoch.'\u001b[0m\u001b[0;34m)\u001b[0m\u001b[0;34m\u001b[0m\u001b[0;34m\u001b[0m\u001b[0m\n\u001b[0m\u001b[1;32m     37\u001b[0m \u001b[0mtrain\u001b[0m\u001b[0;34m(\u001b[0m\u001b[0mds\u001b[0m\u001b[0;34m,\u001b[0m \u001b[0mEPOCHS\u001b[0m\u001b[0;34m)\u001b[0m\u001b[0;34m\u001b[0m\u001b[0;34m\u001b[0m\u001b[0m\n",
      "\u001b[0;31mNameError\u001b[0m: name 'DISPLAY_EVERY' is not defined"
     ]
    }
   ],
   "source": [
    "EPOCHS = 250\n",
    "num_examples = 16\n",
    "\n",
    "#@ tf.function\n",
    "def train_step(images,generator,discriminator,generator_optimizer,discriminator_optimizer):\n",
    "        \n",
    "    bce = tf.keras.losses.BinaryCrossentropy(from_logits=True,label_smoothing=0.4)\n",
    "    bce2 = tf.keras.losses.BinaryCrossentropy(from_logits=False,label_smoothing=0.4)\n",
    "    noise = tf.random.normal((32,128)) # update noise_dim here\n",
    "    labs = tf.cast(120*tf.random.uniform((32,)),tf.int32)\n",
    "    \n",
    "    # USE GRADIENT TAPE TO CALCULATE GRADIENTS\n",
    "    with tf.GradientTape() as gen_tape, tf.GradientTape() as disc_tape:       \n",
    "        generated_images = generator([noise,labs], training=True)\n",
    "        real_cat, real_output = discriminator([images[0],images[1]], training=True)\n",
    "        fake_cat, fake_output = discriminator([generated_images,labs], training=True)\n",
    "    \n",
    "        # GENERATOR LOSS \n",
    "        gen_loss = (tf.reduce_mean( (real_output - tf.reduce_mean(fake_output,0) + tf.ones_like(real_output))**2,0 )\n",
    "        + tf.reduce_mean( (fake_output - tf.reduce_mean(real_output,0) - tf.ones_like(real_output))**2,0 ) )/2.\n",
    "        \n",
    "        # DISCRIMINATOR LOSS\n",
    "        disc_loss = bce(tf.ones_like(real_output), real_output) + bce(tf.zeros_like(fake_output), fake_output)           \n",
    "        real_cat2 = tf.one_hot(tf.cast(images[1],tf.int32),121,dtype=tf.int32)\n",
    "        fake_cat2 = tf.one_hot(120*tf.ones((32,),tf.int32),121,dtype=tf.int32)\n",
    "        disc_loss += bce2(real_cat2,real_cat) + bce2(fake_cat2,fake_cat) \n",
    "        \n",
    "    # BACK PROPAGATE ERROR\n",
    "    gradients_of_generator = gen_tape.gradient(gen_loss, generator.trainable_variables)\n",
    "    gradients_of_discriminator = disc_tape.gradient(disc_loss, discriminator.trainable_variables)\n",
    "    generator_optimizer.apply_gradients(zip(gradients_of_generator, generator.trainable_variables))\n",
    "    discriminator_optimizer.apply_gradients(zip(gradients_of_discriminator, discriminator.trainable_variables))\n",
    "       \n",
    "    return gen_loss, disc_loss\n",
    "\n",
    "print('Training started. Displaying every '+str(DISPLAY_EVERY)+'th epoch.')\n",
    "train(ds, EPOCHS)"
   ]
  },
  {
   "cell_type": "code",
   "execution_count": null,
   "metadata": {},
   "outputs": [],
   "source": []
  },
  {
   "cell_type": "code",
   "execution_count": null,
   "metadata": {},
   "outputs": [],
   "source": []
  }
 ],
 "metadata": {
  "kernelspec": {
   "display_name": "Python 3",
   "language": "python",
   "name": "python3"
  },
  "language_info": {
   "codemirror_mode": {
    "name": "ipython",
    "version": 3
   },
   "file_extension": ".py",
   "mimetype": "text/x-python",
   "name": "python",
   "nbconvert_exporter": "python",
   "pygments_lexer": "ipython3",
   "version": "3.7.3"
  }
 },
 "nbformat": 4,
 "nbformat_minor": 2
}
